{
 "cells": [
  {
   "cell_type": "markdown",
   "metadata": {},
   "source": [
    "# Loads workitems from a query\n",
    "A notebook to load data from devops, merge and clean the data before storing it to a file for analyzis"
   ]
  },
  {
   "cell_type": "code",
   "execution_count": 1,
   "metadata": {},
   "outputs": [],
   "source": [
    "import os\n",
    "import datetime\n",
    "from pytz import timezone\n",
    "import pandas as pd\n",
    "from azure.devops.credentials import BasicAuthentication\n",
    "from azure.devops.connection import Connection\n",
    "from azure.devops.v7_1.work_item_tracking.models import Wiql"
   ]
  },
  {
   "cell_type": "markdown",
   "metadata": {},
   "source": [
    "## Configuration \n",
    "auth_token is a personal access token (PAT) stored in a Windows environment variable called AZURE_DEVOPS_PAT"
   ]
  },
  {
   "cell_type": "code",
   "execution_count": 4,
   "metadata": {},
   "outputs": [],
   "source": [
    "__VERSION__ = \"1.0.0\"\n",
    "personal_access_token = os.environ['AZURE_DEVOPS_PAT']\n",
    "organization_url = \"https://dev.azure.com/skanskanordic/\"\n",
    "project_name = \"Skanska Sverige IT\""
   ]
  },
  {
   "cell_type": "code",
   "execution_count": 5,
   "metadata": {},
   "outputs": [],
   "source": [
    "from types import SimpleNamespace\n",
    "context = SimpleNamespace()\n",
    "context.runner_cache = SimpleNamespace()\n",
    "context.connection = Connection(base_url=url,creds=BasicAuthentication('PAT', auth_token), user_agent='azure-devops-python-samples/' + __VERSION__)\n"
   ]
  },
  {
   "cell_type": "code",
   "execution_count": null,
   "metadata": {},
   "outputs": [],
   "source": [
    "core_client = context.connection.clients.get_core_client()\n",
    "teams = core_client.get_teams(project_id=project_name)"
   ]
  },
  {
   "cell_type": "code",
   "execution_count": null,
   "metadata": {},
   "outputs": [
    {
     "data": {
      "text/html": [
       "<div>\n",
       "<style scoped>\n",
       "    .dataframe tbody tr th:only-of-type {\n",
       "        vertical-align: middle;\n",
       "    }\n",
       "\n",
       "    .dataframe tbody tr th {\n",
       "        vertical-align: top;\n",
       "    }\n",
       "\n",
       "    .dataframe thead th {\n",
       "        text-align: right;\n",
       "    }\n",
       "</style>\n",
       "<table border=\"1\" class=\"dataframe\">\n",
       "  <thead>\n",
       "    <tr style=\"text-align: right;\">\n",
       "      <th></th>\n",
       "      <th>Team Name</th>\n",
       "      <th>Member Name</th>\n",
       "      <th>Member Email</th>\n",
       "    </tr>\n",
       "  </thead>\n",
       "  <tbody>\n",
       "    <tr>\n",
       "      <th>0</th>\n",
       "      <td>Team Salesforce</td>\n",
       "      <td>Anders Ekholm</td>\n",
       "      <td>anders.ekholm@fluidogroup.com</td>\n",
       "    </tr>\n",
       "    <tr>\n",
       "      <th>1</th>\n",
       "      <td>Team Salesforce</td>\n",
       "      <td>Anton Vukoje</td>\n",
       "      <td>anton.vukoje@skanska.se</td>\n",
       "    </tr>\n",
       "    <tr>\n",
       "      <th>2</th>\n",
       "      <td>Team Salesforce</td>\n",
       "      <td>Johansson, Henric</td>\n",
       "      <td>henric.johansson@skanska.se</td>\n",
       "    </tr>\n",
       "    <tr>\n",
       "      <th>3</th>\n",
       "      <td>Team Salesforce</td>\n",
       "      <td>Lars Marmestedt</td>\n",
       "      <td>lars.marmestedt@skanska.se</td>\n",
       "    </tr>\n",
       "    <tr>\n",
       "      <th>4</th>\n",
       "      <td>Team Salesforce</td>\n",
       "      <td>Ring, Ann-Margret</td>\n",
       "      <td>ann-margret.ring@skanska.se</td>\n",
       "    </tr>\n",
       "    <tr>\n",
       "      <th>...</th>\n",
       "      <td>...</td>\n",
       "      <td>...</td>\n",
       "      <td>...</td>\n",
       "    </tr>\n",
       "    <tr>\n",
       "      <th>307</th>\n",
       "      <td>Team Fusion och Basware</td>\n",
       "      <td>Jonas Edholm</td>\n",
       "      <td>jonas.edholm@skanska.se</td>\n",
       "    </tr>\n",
       "    <tr>\n",
       "      <th>308</th>\n",
       "      <td>Team Fusion och Basware</td>\n",
       "      <td>Marie Haglund</td>\n",
       "      <td>marie.haglund@skanska.se</td>\n",
       "    </tr>\n",
       "    <tr>\n",
       "      <th>309</th>\n",
       "      <td>Team Fusion och Basware</td>\n",
       "      <td>Linus Ljungberg</td>\n",
       "      <td>linus.ljungberg@skanska.se</td>\n",
       "    </tr>\n",
       "    <tr>\n",
       "      <th>310</th>\n",
       "      <td>Team Fusion och Basware</td>\n",
       "      <td>Alexander Janving</td>\n",
       "      <td>alexander.janving@skanska.se</td>\n",
       "    </tr>\n",
       "    <tr>\n",
       "      <th>311</th>\n",
       "      <td>Team Fusion och Basware</td>\n",
       "      <td>Jessica Axelsson</td>\n",
       "      <td>jessica.axelsson@skanska.se</td>\n",
       "    </tr>\n",
       "  </tbody>\n",
       "</table>\n",
       "<p>312 rows × 3 columns</p>\n",
       "</div>"
      ],
      "text/plain": [
       "                   Team Name        Member Name                   Member Email\n",
       "0            Team Salesforce      Anders Ekholm  anders.ekholm@fluidogroup.com\n",
       "1            Team Salesforce       Anton Vukoje        anton.vukoje@skanska.se\n",
       "2            Team Salesforce  Johansson, Henric    henric.johansson@skanska.se\n",
       "3            Team Salesforce    Lars Marmestedt     lars.marmestedt@skanska.se\n",
       "4            Team Salesforce  Ring, Ann-Margret    ann-margret.ring@skanska.se\n",
       "..                       ...                ...                            ...\n",
       "307  Team Fusion och Basware       Jonas Edholm        jonas.edholm@skanska.se\n",
       "308  Team Fusion och Basware      Marie Haglund       marie.haglund@skanska.se\n",
       "309  Team Fusion och Basware    Linus Ljungberg     linus.ljungberg@skanska.se\n",
       "310  Team Fusion och Basware  Alexander Janving   alexander.janving@skanska.se\n",
       "311  Team Fusion och Basware   Jessica Axelsson    jessica.axelsson@skanska.se\n",
       "\n",
       "[312 rows x 3 columns]"
      ]
     },
     "execution_count": 11,
     "metadata": {},
     "output_type": "execute_result"
    }
   ],
   "source": [
    "team_data = []\n",
    "for team in teams:\n",
    "    team_name = team.name\n",
    "    members = core_client.get_team_members_with_extended_properties(project_id=project_name, team_id=team.id)\n",
    "\n",
    "    for member in members:\n",
    "        member_name = member.identity.display_name\n",
    "        member_email = member.identity.unique_name\n",
    "        team_data.append({\"Team Name\": team_name, \"Member Name\": member_name, \"Member Email\": member_email})\n",
    "df = pd.DataFrame(team_data)\n",
    "df"
   ]
  },
  {
   "cell_type": "markdown",
   "metadata": {},
   "source": [
    "## Workitems is loaded from devops using a query"
   ]
  },
  {
   "cell_type": "code",
   "execution_count": 12,
   "metadata": {},
   "outputs": [],
   "source": [
    "df.to_csv(\"teams_and_members.csv\", index=False)"
   ]
  }
 ],
 "metadata": {
  "kernelspec": {
   "display_name": "machinelearning",
   "language": "python",
   "name": "python3"
  },
  "language_info": {
   "codemirror_mode": {
    "name": "ipython",
    "version": 3
   },
   "file_extension": ".py",
   "mimetype": "text/x-python",
   "name": "python",
   "nbconvert_exporter": "python",
   "pygments_lexer": "ipython3",
   "version": "3.10.12"
  }
 },
 "nbformat": 4,
 "nbformat_minor": 2
}
